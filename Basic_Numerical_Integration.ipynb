{
 "cells": [
  {
   "cell_type": "code",
   "execution_count": 1,
   "id": "0ad895f5",
   "metadata": {},
   "outputs": [],
   "source": [
    "import numpy as np\n",
    "import matplotlib.pyplot as plt"
   ]
  },
  {
   "cell_type": "markdown",
   "id": "fdc9e5ca",
   "metadata": {},
   "source": [
    "# Analytical solution to given integral"
   ]
  },
  {
   "cell_type": "markdown",
   "id": "d7b559be",
   "metadata": {},
   "source": [
    "$$ I = \\int_0^1 e^{5x} dx  \\\\\n",
    "= \\left(\\frac{1}{5}e^{5x}\\right)^1_0 \\\\\n",
    "= \\frac{e^5 - 1}{5} \\\\\n",
    "= 29.4826 $$"
   ]
  },
  {
   "cell_type": "code",
   "execution_count": 2,
   "id": "1173997a",
   "metadata": {},
   "outputs": [
    {
     "data": {
      "text/plain": [
       "29.48263182051532"
      ]
     },
     "execution_count": 2,
     "metadata": {},
     "output_type": "execute_result"
    }
   ],
   "source": [
    "## Finding exact numerical value \n",
    "I_exact = (np.exp(5)-1)/5\n",
    "\n",
    "I_exact"
   ]
  },
  {
   "cell_type": "markdown",
   "id": "5d9e17fc",
   "metadata": {},
   "source": [
    "## Question 1: Integration - Comparison"
   ]
  },
  {
   "cell_type": "code",
   "execution_count": 3,
   "id": "1afe32fb",
   "metadata": {},
   "outputs": [],
   "source": [
    "#### Defining function for trapezoid integration ############\n",
    "\n",
    "def trapezoidint(f, a,b, N):\n",
    "    h = (b-a)/N                 # dividing into smaller rectangles\n",
    "    I = 0                       # initial value of integral = 0\n",
    "    for i in range(1,N):        # for every single rectangle\n",
    "        I = I + f(a + i*h)      # evaluate the area and add\n",
    "    I = I + f(a)*0.5 + f(b)*0.5 # add final values with correct weightage\n",
    "    I = I*h                     # multiply back with width of rectangle\n",
    "    return I\n",
    "\n",
    "#### Defining function for simpson 1/3 integration ############\n",
    "\n",
    "def simpson13int(f, a,b,N):\n",
    "    h = (b-a)/N                    # dividing into smaller rectangles\n",
    "    I = f(a)+f(b)                  # initial value of integral = sum of function values at boundaries\n",
    "    for i in range(1,N):           # for all rectangles\n",
    "        c = a+i*h     \n",
    "        if i%2==0:      # if i is even\n",
    "            I = I + 2*f(c)\n",
    "        else:           # if i is odd\n",
    "            I = I + 4*f(c)\n",
    "    integ = (h/3)*I                 # returning with correct weightage\n",
    "    return integ"
   ]
  },
  {
   "cell_type": "code",
   "execution_count": 4,
   "id": "1676aa8b",
   "metadata": {},
   "outputs": [],
   "source": [
    "# Defining function to be integrated\n",
    "def f1(x):\n",
    "    return np.exp(5*x)"
   ]
  },
  {
   "cell_type": "markdown",
   "id": "91ab4722",
   "metadata": {},
   "source": [
    "#### Finding value of integral using trapezoid integration for different N values -"
   ]
  },
  {
   "cell_type": "code",
   "execution_count": 5,
   "id": "c6b91380",
   "metadata": {},
   "outputs": [
    {
     "name": "stdout",
     "output_type": "stream",
     "text": [
      "Values of integral using trapezoidal rule for N = 1,5,10,50,100,500,1000,10000 respectively are:\n"
     ]
    },
    {
     "data": {
      "text/plain": [
       "(74.7065795512883,\n",
       " 31.899520887001984,\n",
       " 30.09430919959657,\n",
       " 29.507196586530494,\n",
       " 29.48877377956754,\n",
       " 29.482877508704345,\n",
       " 29.48269324263935,\n",
       " 29.48263243473681)"
      ]
     },
     "execution_count": 5,
     "metadata": {},
     "output_type": "execute_result"
    }
   ],
   "source": [
    "I1 = trapezoidint(f1, 0,1,1)\n",
    "I5 = trapezoidint(f1, 0,1,5)\n",
    "I10 = trapezoidint(f1, 0,1,10)\n",
    "I50 = trapezoidint(f1, 0,1,50)\n",
    "I100 = trapezoidint(f1, 0,1,100)\n",
    "I500 = trapezoidint(f1, 0,1,500)\n",
    "I1000 = trapezoidint(f1, 0,1,1000)\n",
    "I10000 = trapezoidint(f1, 0,1,10000)\n",
    "\n",
    "print(\"Values of integral using trapezoidal rule for N = 1,5,10,50,100,500,1000,10000 respectively are:\")\n",
    "I1, I5, I10, I50, I100, I500, I1000, I10000"
   ]
  },
  {
   "cell_type": "markdown",
   "id": "ab624128",
   "metadata": {},
   "source": [
    "#### Finding value of integral using simpson 1/3rd integration for different N values -"
   ]
  },
  {
   "cell_type": "code",
   "execution_count": 6,
   "id": "27bf2385",
   "metadata": {},
   "outputs": [
    {
     "name": "stdout",
     "output_type": "stream",
     "text": [
      "Values of integral using simpson's 1/3rd rule for N = 1,5,10,50,100,500,1000,10000 respectively are:\n"
     ]
    },
    {
     "data": {
      "text/plain": [
       "(49.80438636752553,\n",
       " 24.30685642488755,\n",
       " 29.492571970461434,\n",
       " 29.48264818027658,\n",
       " 29.482632843913223,\n",
       " 29.482631822153227,\n",
       " 29.482631820617705,\n",
       " 29.48263182051537)"
      ]
     },
     "execution_count": 6,
     "metadata": {},
     "output_type": "execute_result"
    }
   ],
   "source": [
    "I1 = simpson13int(f1, 0, 1, 1)\n",
    "I5 = simpson13int(f1, 0, 1, 5)\n",
    "I10 = simpson13int(f1, 0, 1, 10)\n",
    "I50 = simpson13int(f1, 0, 1, 50)\n",
    "I100 = simpson13int(f1, 0, 1, 100)\n",
    "I500 = simpson13int(f1, 0, 1, 500)\n",
    "I1000 = simpson13int(f1, 0, 1, 1000)\n",
    "I10000 = simpson13int(f1, 0, 1, 10000)\n",
    "\n",
    "print(\"Values of integral using simpson's 1/3rd rule for N = 1,5,10,50,100,500,1000,10000 respectively are:\")\n",
    "I1, I5, I10, I50, I100, I500, I1000, I10000"
   ]
  },
  {
   "cell_type": "markdown",
   "id": "62b65fd9",
   "metadata": {},
   "source": [
    "#### Plotting absolute error as a function of number of intervals for both methods"
   ]
  },
  {
   "cell_type": "markdown",
   "id": "e1908c46",
   "metadata": {},
   "source": [
    "###### Trapezoid method"
   ]
  },
  {
   "cell_type": "code",
   "execution_count": 7,
   "id": "008280d2",
   "metadata": {},
   "outputs": [],
   "source": [
    "N = np.array([2**i for i in range(15)])             # Taking all powers of 2 till 2^15 as N values\n",
    "abs_err_trape = np.zeros(len(N))\n",
    "\n",
    "for i in range(1,len(N)+1):                          # calculating absolute error values for every N value\n",
    "    abs_err_trape[i-1] = np.abs(trapezoidint(f1, 0,1,N[i-1]) - I_exact)\n"
   ]
  },
  {
   "cell_type": "code",
   "execution_count": 8,
   "id": "ecad9d8e",
   "metadata": {},
   "outputs": [
    {
     "data": {
      "image/png": "[encoded data removed]",
      "text/plain": [
       "<Figure size 432x288 with 1 Axes>"
      ]
     },
     "metadata": {
      "needs_background": "light"
     },
     "output_type": "display_data"
    }
   ],
   "source": [
    "# Plotting\n",
    "plt.scatter(N, abs_err_trape, s = 20, color='b')\n",
    "plt.xlabel(\"Number of intervals N\")\n",
    "plt.ylabel(\"Absolute error value\")\n",
    "plt.title(\"Absolute error vs N for trapezoid integration\")\n",
    "plt.grid()\n",
    "plt.show()"
   ]
  },
  {
   "cell_type": "markdown",
   "id": "c8325977",
   "metadata": {},
   "source": [
    "#### Plotting log-log plot to find out power law dependence from slope of best-fit line"
   ]
  },
  {
   "cell_type": "code",
   "execution_count": 9,
   "id": "db5d3008",
   "metadata": {},
   "outputs": [
    {
     "name": "stdout",
     "output_type": "stream",
     "text": [
      "Power law dependence of absolute error on N is: p = -1.9851985571163613\n"
     ]
    },
    {
     "data": {
      "image/png": "[encoded data removed]",
      "text/plain": [
       "<Figure size 432x288 with 1 Axes>"
      ]
     },
     "metadata": {
      "needs_background": "light"
     },
     "output_type": "display_data"
    }
   ],
   "source": [
    "plt.scatter(np.log(N), np.log(abs_err_trape), s = 20, color='b')\n",
    "plt.xlabel(r\"$\\log{(N)}$\")\n",
    "plt.ylabel(r\"$\\log{(\\Delta_N)}$\")\n",
    "plt.title(\"Trapezoid integration- Absolute error vs N (log-log)\")\n",
    "\n",
    "m1,c1 = np.polyfit(np.log(N), np.log(abs_err_trape), 1)\n",
    "print(r\"Power law dependence of absolute error on N is: p =\", m1)\n",
    "plt.grid()\n",
    "plt.show()"
   ]
  },
  {
   "cell_type": "markdown",
   "id": "b5bd0161",
   "metadata": {},
   "source": [
    "### Thus, for trapezoid method, $p \\sim -2$ "
   ]
  },
  {
   "cell_type": "markdown",
   "id": "31597b2f",
   "metadata": {},
   "source": [
    "#### Simpson 1/3rd method"
   ]
  },
  {
   "cell_type": "code",
   "execution_count": 10,
   "id": "a52c26b2",
   "metadata": {},
   "outputs": [],
   "source": [
    "N = np.array([2**i for i in range(14)])              # Taking all powers of 2 till 2^15 as N values\n",
    "abs_err_simp = np.zeros(len(N))\n",
    "\n",
    "for i in range(1,len(N)+1):                           # calculating absolute error values for every N value\n",
    "    abs_err_simp[i-1] = np.abs(simpson13int(f1, 0,1,N[i-1]) - I_exact)\n"
   ]
  },
  {
   "cell_type": "markdown",
   "id": "f01c0a45",
   "metadata": {},
   "source": [
    "#### Plotting log-log plot to find out power law dependence from slope of best-fit line"
   ]
  },
  {
   "cell_type": "code",
   "execution_count": 11,
   "id": "94f9df8d",
   "metadata": {},
   "outputs": [
    {
     "name": "stdout",
     "output_type": "stream",
     "text": [
      "Power law dependence of absolute error on N is: -3.9169052578409818\n"
     ]
    },
    {
     "data": {
      "image/png": "[encoded data removed]",
      "text/plain": [
       "<Figure size 432x288 with 1 Axes>"
      ]
     },
     "metadata": {
      "needs_background": "light"
     },
     "output_type": "display_data"
    }
   ],
   "source": [
    "plt.scatter(np.log(N), np.log(abs_err_simp), s = 20, color='b')\n",
    "plt.xlabel(\"Number of intervals N\")\n",
    "plt.ylabel(\"Absolute error value\")\n",
    "plt.title(\"Absolute error vs N for simpson-1/3rd integration\")\n",
    "m2,c2 = np.polyfit(np.log(N), np.log(abs_err_simp), 1)\n",
    "print(r\"Power law dependence of absolute error on N is:\", m2)\n",
    "plt.grid()\n",
    "plt.show()"
   ]
  },
  {
   "cell_type": "markdown",
   "id": "8d80a827",
   "metadata": {},
   "source": [
    "### Thus, for simpson 1/3rd method, $p \\sim -4$ "
   ]
  },
  {
   "cell_type": "markdown",
   "id": "d2ff7060",
   "metadata": {},
   "source": [
    "# Question 2 - Adaptive Integration"
   ]
  },
  {
   "cell_type": "code",
   "execution_count": 12,
   "id": "1e77d112",
   "metadata": {},
   "outputs": [],
   "source": [
    "def f1(x):               # defining function to be integrated\n",
    "    return np.exp(5*x)\n",
    "\n",
    "\n",
    "####### Writing adaptive integration function recursively\n",
    "\n",
    "def adaptiveint2(f,a,b, fa, fb, eps, counter = 0): \n",
    "    \n",
    "    '''Implemented modification of include fa=f(a) and fb=f(b) in the parameters itself to reduce number of function\n",
    "    evalutions. The routine now needs to evaluate only 1 function value per recursive loop, that at the midpoint.'''\n",
    "    \n",
    "    \n",
    "    # Integral calculation\n",
    "    midp = (a+b)/2\n",
    "    fp = f(midp)\n",
    "    I0 = 0.5*(b-a)*(fa+fb)\n",
    "    I1 = 0.25*(b-a)*(fa+fp)\n",
    "    I2 = 0.25*(b-a)*(fb+fp)\n",
    "    \n",
    "    if np.abs(I0-I1-I2)<eps:    # if required precision achieved, return integral value and counter\n",
    "        \n",
    "        return [(I1 + I2), counter]\n",
    "    \n",
    "    else:                      # else, recursive call back to function with appropriately modified parameters\n",
    "        \n",
    "        # Now, to reduce function calls and correct the counter, we split the left and right integral calls\n",
    "        # Part 1 (Counter increases by 1 every recursive step from the previous value)\n",
    "        int1, ctr1 = adaptiveint2(f,a,midp, fa, fp, counter=counter+1, eps=eps)   \n",
    "        # Part 2 (To get correct counter values, in this part we increment the counter from the last ctr value )\n",
    "        int2, ctr2 = adaptiveint2(f,midp,b, fp, fb, counter=ctr1+1, eps=eps)\n",
    "        \n",
    "        # return for recursive calls\n",
    "        return int1 + int2, ctr2\n",
    "    "
   ]
  },
  {
   "cell_type": "markdown",
   "id": "fae474be",
   "metadata": {},
   "source": [
    "#### Value of integral using adaptive method"
   ]
  },
  {
   "cell_type": "code",
   "execution_count": 13,
   "id": "ae09043a",
   "metadata": {},
   "outputs": [
    {
     "name": "stdout",
     "output_type": "stream",
     "text": [
      "Value of integral using adaptive method is: 29.482631933336968\n",
      "Number of recursive steps needed at given epsilon value is: 18672\n",
      "Wall time: 48.8 ms\n"
     ]
    }
   ],
   "source": [
    "%%time\n",
    "# Test run to see if recursive function works\n",
    "\n",
    "counter = 0\n",
    "integral, count = adaptiveint2(f=f1, a=0, b=1, fa=f1(0), fb=f1(1), eps=1e-10)\n",
    "print(\"Value of integral using adaptive method is:\", integral)\n",
    "print(\"Number of recursive steps needed at given epsilon value is:\", count)\n",
    "#print(final)\n"
   ]
  },
  {
   "cell_type": "markdown",
   "id": "7d46b303",
   "metadata": {},
   "source": [
    "#### Plotting the variation of tolerance $\\epsilon$ with number of recursions done"
   ]
  },
  {
   "cell_type": "code",
   "execution_count": 14,
   "id": "b3c0d20a",
   "metadata": {},
   "outputs": [],
   "source": [
    "eps = np.array([1e-1,1e-2, 1e-3, 1e-4, 1e-5, 1e-6, 1e-7, 1e-8, 1e-9, 1e-10, 1e-11, 1e-12, 1e-13, 1e-14, 1e-15])"
   ]
  },
  {
   "cell_type": "code",
   "execution_count": 15,
   "id": "244e0e33",
   "metadata": {},
   "outputs": [
    {
     "name": "stdout",
     "output_type": "stream",
     "text": [
      "Wall time: 3.71 s\n"
     ]
    }
   ],
   "source": [
    "%%time\n",
    "\n",
    "counter = 0\n",
    "recur_counts = np.zeros(len(eps))\n",
    "\n",
    "for i in range(len(eps)): \n",
    "    recur_counts[i] = adaptiveint2(f=f1, a=0, b=1, fa=f1(0), fb=f1(1), eps=eps[i])[1]"
   ]
  },
  {
   "cell_type": "code",
   "execution_count": 16,
   "id": "a923b245",
   "metadata": {},
   "outputs": [
    {
     "data": {
      "image/png": "[encoded data removed]",
      "text/plain": [
       "<Figure size 432x288 with 1 Axes>"
      ]
     },
     "metadata": {
      "needs_background": "light"
     },
     "output_type": "display_data"
    }
   ],
   "source": [
    "plt.scatter(eps, recur_counts, color='b', s=20)\n",
    "plt.title(r\"Variation of $\\epsilon$ with counts\")\n",
    "plt.grid()\n",
    "plt.xlabel(r\"$\\epsilon$\")\n",
    "plt.ylabel(r\"Counts\")\n",
    "plt.show()"
   ]
  },
  {
   "cell_type": "markdown",
   "id": "9c42fa48",
   "metadata": {},
   "source": [
    "#### Plotting log-log plots to extract power of power law (if it is one)"
   ]
  },
  {
   "cell_type": "code",
   "execution_count": 17,
   "id": "55c1e631",
   "metadata": {},
   "outputs": [
    {
     "name": "stdout",
     "output_type": "stream",
     "text": [
      "The slope of the best fit line, giving us the power law as p = -0.33547293122066046\n"
     ]
    },
    {
     "data": {
      "image/png": "[encoded data removed]",
      "text/plain": [
       "<Figure size 432x288 with 1 Axes>"
      ]
     },
     "metadata": {
      "needs_background": "light"
     },
     "output_type": "display_data"
    }
   ],
   "source": [
    "plt.scatter(np.log(eps), np.log(recur_counts), color='b', s=20)\n",
    "plt.grid()\n",
    "m3,c3 = np.polyfit(np.log(eps), np.log(recur_counts),1)\n",
    "plt.title(r\"Log-Log plot of counts vs $\\epsilon$ to find power law\")\n",
    "plt.xlabel(r\"$\\log{\\epsilon}$\")\n",
    "plt.ylabel(r\"$\\log{Counts}$\")\n",
    "print(\"The slope of the best fit line, giving us the power law as p =\", m3)\n",
    "plt.show()"
   ]
  }
 ],
 "metadata": {
  "kernelspec": {
   "display_name": "Python 3 (ipykernel)",
   "language": "python",
   "name": "python3"
  },
  "language_info": {
   "codemirror_mode": {
    "name": "ipython",
    "version": 3
   },
   "file_extension": ".py",
   "mimetype": "text/x-python",
   "name": "python",
   "nbconvert_exporter": "python",
   "pygments_lexer": "ipython3",
   "version": "3.9.7"
  }
 },
 "nbformat": 4,
 "nbformat_minor": 5
}
