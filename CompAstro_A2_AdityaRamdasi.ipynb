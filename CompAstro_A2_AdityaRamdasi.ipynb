{
 "cells": [
  {
   "cell_type": "markdown",
   "id": "de9966c6-9887-4fae-8950-65c5030631c8",
   "metadata": {},
   "source": [
    "## Assignment 2 Solutions \n",
    "\n",
    "### Aditya Ramdasi\n",
    "\n",
    "Solving projectile motion equations as boundary value problems by 2 methods - Shooting and Relaxation"
   ]
  },
  {
   "cell_type": "code",
   "execution_count": 250,
   "id": "b4161690-f9c0-4b8b-8dca-53b8a4049bd5",
   "metadata": {},
   "outputs": [],
   "source": [
    "import numpy as np\n",
    "import matplotlib.pyplot as plt\n",
    "from numpy.linalg import inv, norm\n",
    "import time"
   ]
  },
  {
   "cell_type": "markdown",
   "id": "45a0a524-882f-4c29-b94d-be2583071136",
   "metadata": {},
   "source": [
    "#### Given -\n",
    "\n",
    "Mass of boulder = 100 kg\n",
    "\n",
    "Since the problem at hand is a simple projectile motion, ignoring air resistance, we construct the following equations of motion in $x,y$ directions for the moving boulder - \n",
    "\n",
    "$$ \\frac{dx}{dt} = v_x = v_0 \\cos{\\theta} \\hspace{   \n",
    "    \\frac{dy}{dt} = v_y = v_0 \\sin{\\theta} $$ \n",
    " //\n",
    "\n",
    "\\frac{dv_x}{dt} &=  \\frac{d^2x}{dt^2} = 0 // \n",
    "\\frac{dv_y}{dt} &= \\frac{d^2y}{dt^2} = -g // $$\n",
    "\n",
    "where $\\theta$ is the angle of projection i.e. angle between the horizontal and the current velocity vector, and $g = 9.81$ m/s$^2$, the given standard acceleration value due to gravity, which is a constant. \n",
    "\n",
    "From the scenario described in the problem we can extract the following boundary conditions to solve our BVP (all values in SI units):\n",
    "\n",
    "* $t_0 = 0, \\hspace{3mm} x(t_0) = x_0 =  0, \\hspace{3mm} y(0) = y_0 = + 100$\n",
    "* $t_f = 15, \\hspace{3mm} x(t_f) = x_f = +1000, \\hspace{3mm} y(t_f) = y_f =  0$\n",
    "\n"
   ]
  },
  {
   "cell_type": "markdown",
   "id": "dce52382-015d-42dd-80f3-d4e2df1acdcb",
   "metadata": {},
   "source": [
    "### Analytical solution\n",
    "\n",
    "We can solve for the initial velocities $u_x, u_y$ using simple 1D kinematic equations applied separately for $x, y$ directions (ignoring air resistance, of course). There is no acceleration due to gravity in the $x$ direction (constant velocity motion), only the $y$ direction. Considering this, we find the analytical values of $u_x, u_y$ as follows - \n",
    "\n",
    "$\\begin{align*} \n",
    "s_x &= u_x * t_f \\\\ \\implies u_x &= \\frac{s_x}{t_f} = \\frac{1000}{15} = 66.667 m/s \\\\\n",
    "s_y &= u_y*t_f + \\frac{1}{2}gt_f^2 \\\\  \\implies u_y &= \\frac{s_y + 0.5*gt_f^2}{t_f}  =  \\frac{-100 + 0.5*(9.8)*(15)^2}{15} = 66.833 m/s\n",
    "\\end{align*}$\n",
    "\n",
    "$\\begin{align*}\n",
    "v_y &= u_y - g*t_f = 66.833 - (9.8)*(15) = -80.166 m/s\n",
    "\\end{align*}$\n",
    "\n",
    "This is analytical final y velocity value, the x value will remain the same.\n",
    "\n",
    "Thus, the analytical values of initial velocities in $x$ and $y$ directions are:\n",
    "\n",
    "$\\begin{equation*} \n",
    "u_x = 66.667 m/s \n",
    "\\end{equation*}$\n",
    "\n",
    "$\\begin{equation*} \n",
    "u_y = 66.837 m/s \n",
    "\\end{equation*}$"
   ]
  },
  {
   "cell_type": "markdown",
   "id": "5cfb08fe-3149-409f-9bfe-385d8819fcca",
   "metadata": {},
   "source": [
    "### Numerical Solution - Approach 1"
   ]
  },
  {
   "cell_type": "markdown",
   "id": "e905adaa-1fc0-4618-b408-292a49a86bdf",
   "metadata": {},
   "source": [
    "We first approach this problem's numerical solution with an iterative **shooting method** as follows -"
   ]
  },
  {
   "cell_type": "markdown",
   "id": "b199d7af-f361-4a7c-a120-a3105f58f3ab",
   "metadata": {},
   "source": [
    "### Iterative Shooting Method\n",
    "\n",
    "In this method, we start with some random guess values of initial velocities $v_x$ and $v_y$, and evolve the system as an IVP, from the given initial positions using those as trial values of velocities. We record where the boulder lands with this time evolution (here we use RK4 to do this), and compute the *error vector* by subtracting the target vector from this position vector where it landed. The goal now is to **minimize this error vector**, or rather, its magnitude iteratively. \n",
    "\n",
    "To do this, we take numerical finite difference derivaties of the velocity components by evolving the system with originally chosen velocities and slightly perturbed velocities (done independently and successively for $v_x$ and $v_y$ and dividing the difference in their error vectors by a small $\\Delta v$. This gives us the **Jacobian** matrix, whose elements tell us how small changes in initial velocity affect the finally achieved position of the boulder. (Basically we do a Taylor expansion of th error vectors upto the first-order). \n",
    "\n",
    "We then invert this Jacobian and take its dot product with the current error vector to produce a correction vector $[\\Delta v_x, \\Delta v_y]$. We add these corrections to our initial random guess of initial velocities, and repeat the entire process until the magnitude of the error vector goes below a certain set tolerance value, which controls the time and accuracy of conversion of our shooting method.\n",
    "\n",
    "Having understood the algorithm, we now implement it in code -"
   ]
  },
  {
   "cell_type": "markdown",
   "id": "b32072f5-f7fb-4ab9-971e-c90e9c74b7aa",
   "metadata": {},
   "source": [
    "#### Functions for time evolution (RK4), error vector, jacobian and actual shooting method"
   ]
  },
  {
   "cell_type": "code",
   "execution_count": 323,
   "id": "22c84a36-5a84-4ba4-9c4b-9fe2e64e5f34",
   "metadata": {},
   "outputs": [],
   "source": [
    "# Encoding the system's 4 differential equations in a single function\n",
    "def derivatives(x, y, vx, vy):\n",
    "    return vx, vy, 0, -g  # Return dx/dt, dy/dt, dvx/dt, dvy/dt\n",
    "\n",
    "\n",
    "# RK4 integrator to evolve the system from 0 to Tf in increments of dt and return x, y, vx, vy at each step\n",
    "def rk4_trajectory(x0, y0, vx0, vy0, Tf, dt):\n",
    "    \"\"\"\n",
    "    Evolve the projectile motion in 2D and return arrays of positions (x, y) and velocities (vx, vy).\n",
    "    \"\"\"\n",
    "    n_steps = int(Tf / dt) + 1  # Number of time steps (+1 for the final step)\n",
    "\n",
    "    # Initialize one n_steps X 4 array for x, y, vx, vy at each time step\n",
    "    trajectory = np.zeros((n_steps, 4))  # Each row will store [x, y, vx, vy]\n",
    "\n",
    "    # Set initial conditions (0th row of trajectory array)\n",
    "    trajectory[0] = [x0, y0, vx0, vy0]\n",
    "\n",
    "    # Time evolution loop\n",
    "    for i in range(1, n_steps):  # start from 1 since 0th is initialized\n",
    "        x, y, vx, vy = trajectory[i-1]  # Get current state\n",
    "\n",
    "        # RK4 steps to compute the intermediate steps for this step\n",
    "        k1x, k1y, k1vx, k1vy = derivatives(x, y, vx, vy)\n",
    "        k2x, k2y, k2vx, k2vy = derivatives(x + dt*k1x/2, y + dt*k1y/2, vx + dt*k1vx/2, vy + dt*k1vy/2)\n",
    "        k3x, k3y, k3vx, k3vy = derivatives(x + dt*k2x/2, y + dt*k2y/2, vx + dt*k2vx/2, vy + dt*k2vy/2)\n",
    "        k4x, k4y, k4vx, k4vy = derivatives(x + dt*k3x,   y + dt*k3y,   vx + dt*k3vx,   vy + dt*k3vy)\n",
    "\n",
    "        # Update position and velocity using the values calculated for intermediate steps above\n",
    "        trajectory[i, 0] = x + dt*(k1x + 2 * k2x + 2 * k3x + k4x)/6.0  # Update x value\n",
    "        trajectory[i, 1] = y + dt*(k1y + 2 * k2y + 2 * k3y + k4y)/6.0  # Update y value\n",
    "        trajectory[i, 2] = vx + dt*(k1vx + 2 * k2vx + 2 * k3vx + k4vx)/6.0  # Update vx value\n",
    "        trajectory[i, 3] = vy + dt*(k1vy + 2 * k2vy + 2 * k3vy + k4vy)/6.0  # Update vy value\n",
    "\n",
    "    return trajectory  # returns (n_steps x 4) filled array with x, y, vx, vy at every timestep\n",
    "\n",
    "\n",
    "#  Function to calculate error vector after every time evolution \n",
    "def err_vect(x0, y0, vx0, vy0, x_target, y_target, Tf, dt):\n",
    "    \"\"\"\n",
    "    Compute the error between the final position after evolving the system (using x0,y0,vx0,vy0) and the target position.\n",
    "    \"\"\"\n",
    "    # Evolve system from (x0,y0) with initial velocity (vx0, vy0)\n",
    "    trajectory = rk4_trajectory(x0, y0, vx0, vy0, Tf, dt)  \n",
    "\n",
    "    # Take out final x, y position from the trajectory (columns 0 and 1)\n",
    "    achieved_pos = trajectory[-1, 0:2]  \n",
    "\n",
    "    # Convert input target coordinates into a vector for subtraction\n",
    "    target_pos = np.array([x_target, y_target])\n",
    "    \n",
    "    return achieved_pos - target_pos  # Return the error vector (delta x, delta y)\n",
    "\n",
    "\n",
    "# Function to calculate jacobian matrix for first-order Taylor expansion (numerical derivative)\n",
    "def jacobian(x0, y0, vx0, vy0, x_target, y_target, Tf, dt, dv=1e-4):\n",
    "    \"\"\"\n",
    "    Numerically calculate the Jacobian matrix with respect to initial velocities (vx0, vy0).\n",
    "    \"\"\"\n",
    "    jacob = np.zeros((2, 2))  # Initialize 2x2 Jacobian matrix to store values of derivatives\n",
    "    \n",
    "    error_orig = err_vect(x0, y0, vx0, vy0, x_target, y_target, Tf, dt)  # Original error vector\n",
    "    \n",
    "    # Adding a small change to vx0\n",
    "    modified_vx = vx0 + dv  # Perturb vx0 by a small amount dv, vy0 remains the same\n",
    "    error_mod_vx = err_vect(x0, y0, modified_vx, vy0, x_target, y_target, Tf, dt)  # Calculate error vector with modified vx0\n",
    "    jacob[:, 0] = (error_mod_vx - error_orig) / dv  # Partial derivative w.r.t. vx0\n",
    "\n",
    "    # Adding a small change to vy0\n",
    "    modified_vy = vy0 + dv  # Perturb vy0 by a small amount dv, vx0 remains the same\n",
    "    error_mod_vy = err_vect(x0, y0, vx0, modified_vy, x_target, y_target, Tf, dt)  # Calculate error vector with modified vy0\n",
    "    jacob[:, 1] = (error_mod_vy - error_orig) / dv  # Partial derivative w.r.t. vy0\n",
    "\n",
    "    return jacob  # Return the completed Jacobian matrix\n",
    "\n",
    "\n",
    "# Finally, we now write the function for our actual shooting method to iteratively adjust initial velocities to hit the target\n",
    "def shooting_method(x0, y0, vx0_init, vy0_init, x_target, y_target, Tf, dt, max_iter, tol):\n",
    "    \"\"\"\n",
    "    Solve for the initial velocities (vx0, vy0) that hit the target using iterative shooting.\n",
    "    \"\"\"\n",
    "    vx0, vy0 = vx0_init, vy0_init  # Set initial guesses for velocity\n",
    "\n",
    "    for i in range(max_iter):  # For each iteration\n",
    "        error_vec = err_vect(x0, y0, vx0, vy0, x_target, y_target, Tf, dt)  # Compute the error vector\n",
    "        error_norm = np.sqrt(error_vec[0]**2 + error_vec[1]**2)  # Compute its magnitude\n",
    "\n",
    "        if error_norm < tol:  # If the error vector magnitude is within the given tolerance\n",
    "            return vx0, vy0, i  # Return the current value of initial velocities, and current iteration number. Solution found.\n",
    "\n",
    "        # If not, then compute Jacobian matrix and invert that to get delta_v correction\n",
    "        jacob = jacobian(x0, y0, vx0, vy0, x_target, y_target, Tf, dt)  # Jacobian matrix\n",
    "        jacob_inv = np.linalg.inv(jacob)  # Invert the Jacobian matrix\n",
    "        delta_v = -np.dot(jacob_inv, error_vec)  # Compute delta_vx, delta_vy as corrections to initial velocities\n",
    "\n",
    "        vx0 = vx0 + delta_v[0]  # Update vx0 with computed delta _vx correction\n",
    "        vy0 = vy0 + delta_v[1]  # Update vy0 with computed delta_vy correction\n",
    "\n",
    "    return vx0, vy0  # After iterating until max_iter is reached, return the best solution\n"
   ]
  },
  {
   "cell_type": "markdown",
   "id": "c0a8f855-8b55-43b1-8ff1-b669010cc521",
   "metadata": {},
   "source": [
    "We now put the specified initial conditions, integration and shooting parameters and given value of $g$"
   ]
  },
  {
   "cell_type": "code",
   "execution_count": 324,
   "id": "d71fd1e5-658a-4275-8c03-87b0e13f97d5",
   "metadata": {},
   "outputs": [],
   "source": [
    "## Initial conditions, parameters, and constants \n",
    "\n",
    "## Initial conditions\n",
    "x0, y0 = 0, 100                        # considering the given figure, origin as given in the figure\n",
    "x_target, y_target = 1000, 0           # coordinates of landing according to chosen origin (1km = 1000m)\n",
    "Tf = 15                                # given time of motion in seconds, starting at t = 0\n",
    "\n",
    "# Integration and shooting method parameters\n",
    "dt = 1  # Time step for the RK4 integration\n",
    "tol = 1e-5  # Tolerance for the error vector norm\n",
    "max_iter = 10\n",
    "\n",
    "\n",
    "# Constants (given values) \n",
    "g = 9.81  # given gravitational acceleration (m/s^2)\n",
    "\n",
    "# Initial guess values for velocity components \n",
    "vx0_init = 50.0\n",
    "vy0_init = 50.0"
   ]
  },
  {
   "cell_type": "markdown",
   "id": "496b352d-16ed-43b8-b2bd-a10c99201d2e",
   "metadata": {},
   "source": [
    "### Driver code "
   ]
  },
  {
   "cell_type": "code",
   "execution_count": 325,
   "id": "2a914ffa-020c-4b36-80d6-00817885e6e1",
   "metadata": {},
   "outputs": [
    {
     "name": "stdout",
     "output_type": "stream",
     "text": [
      "CPU times: user 1.42 ms, sys: 0 ns, total: 1.42 ms\n",
      "Wall time: 1.3 ms\n"
     ]
    }
   ],
   "source": [
    "%%time \n",
    "# Generate the projectile trajectory using the initial guess velocities \n",
    "trajectory_init = rk4_trajectory(x0, y0, vx0_init, vy0_init, Tf, dt)\n",
    "\n",
    "# Solve the problem by finding the correct initial velocities using the shooting method\n",
    "vx0_solution, vy0_solution, n_iters = shooting_method(x0, y0, vx0_init, vy0_init, x_target, y_target, Tf, dt, max_iter, tol)\n",
    "\n",
    "# Generate the projectile trajectory using the found initial velocities  \n",
    "trajectory_solution = rk4_trajectory(x0, y0, vx0_solution, vy0_solution, Tf, dt)\n",
    "\n",
    "# Extract x, y positions (0th and 1st column) for initial guess velocities\n",
    "x_init, y_init = trajectory_init[:, 0], trajectory_init[:, 1]\n",
    "\n",
    "# Extract x, y positions (0th and 1st column) for found initial velocities\n",
    "x_solu, y_solu = trajectory_solution[:, 0], trajectory_solution[:, 1] \n",
    "\n",
    "#  Also extract vx, vy velocity components (2nd and 3rd column) for final velocity of solution trajectory\n",
    "vx_final_solu, vy_final_solu = trajectory_solution[-1, 2], trajectory_solution[-1, 3] "
   ]
  },
  {
   "cell_type": "code",
   "execution_count": 326,
   "id": "a3cf452e-95dd-42e1-8f7c-8c2558b6b9d1",
   "metadata": {},
   "outputs": [
    {
     "data": {
      "image/png": "[encoded data removed]",
      "text/plain": [
       "<Figure size 640x480 with 1 Axes>"
      ]
     },
     "metadata": {},
     "output_type": "display_data"
    }
   ],
   "source": [
    "# Plotting\n",
    "\n",
    "# Plot both the trajectories\n",
    "plt.plot(x_init, y_init, label='Trajectory with guess initial velocities', ls='--', color='grey')  # Plot the initial guess trajectory\n",
    "plt.plot(x_solu, y_solu, label='Trajectory with found initial velocities', color='black')  # Plot the final found trajectory\n",
    "\n",
    "plt.scatter(target_position[0], target_position[1], color='red', label='Target Position')  # Mark the target\n",
    "plt.scatter(x0, y0, color='green', label='Initial Position')  # Mark the start\n",
    "\n",
    "plt.xlabel('X Position (m)')  # Label x-axis\n",
    "plt.ylabel('Y Position (m)')  # Label y-axis\n",
    "plt.title('Projectile Motion using shooting method')  # Set plot title\n",
    "plt.legend(loc=(1.02, 0.75))  # Add legend\n",
    "plt.show()  # Display the plot"
   ]
  },
  {
   "cell_type": "code",
   "execution_count": 327,
   "id": "9430bab3-b9c1-4009-8fcb-9821f2633d36",
   "metadata": {},
   "outputs": [
    {
     "name": "stdout",
     "output_type": "stream",
     "text": [
      "The converged values of initial x,y velocities (in m/s) for the boulder to reach (1000,0) from (0,100) in 15 seconds are:\n",
      " 66.667 66.908\n",
      "The final x,y velocities (in m/s) of the boulder following the found trajectory, at (1000,0) are:\n",
      " 66.667 -80.242\n"
     ]
    }
   ],
   "source": [
    "vx0_solution, vy0_solution = np.round(vx0_solution, 3), np.round(vy0_solution, 3)\n",
    "vx_final_solu, vy_final_solu = np.round(vx_final_solu, 3), np.round(vy_final_solu,3)\n",
    "\n",
    "print(\"The converged values of initial x,y velocities (in m/s) for the boulder to reach (1000,0) from (0,100) in 15 seconds are:\\n\", vx0_solution, vy0_solution)\n",
    "\n",
    "print(\"The final x,y velocities (in m/s) of the boulder following the found trajectory, at (1000,0) are:\\n\", vx_final_solu, vy_final_solu) "
   ]
  },
  {
   "cell_type": "markdown",
   "id": "2d3e5e2d-dfff-4c67-923f-6aa3e84ad755",
   "metadata": {},
   "source": [
    "##### Now we approach the same problem, but using a relaxation approach"
   ]
  },
  {
   "cell_type": "markdown",
   "id": "a8df5cc4-6995-4c2c-a664-18e4566940f9",
   "metadata": {},
   "source": [
    "In this approach, we do not use an IVP solver at all to compute our error vectors. Instead, we initialize a mesh of grid points ($M$) with some randomized initial ($x,y,v_x, v_y$) values at every mesh point. We convert our given differential equations to a set of $N$ coupled linear equations, but in discretized form, to get our **Finite difference equations**. We then compute our error vectors for each grid point by using the following equation (here $y_k$ stands for each of the 4 variables mentioned above, $t_k$ stands for discretized time) - \n",
    "\n",
    "$\\begin{equation} \\vec{E_k} = (\\vec{y_k} - \\vec{y_{k-1}}) - (t_k - t_{k-1})g( \\frac{1}{2} (t_k + t_{k+1}, y_k + y_{k+1})\n",
    "\\end{equation}$\n",
    "\n",
    "We then compute an $N \\times 2N$ Jacobian matrix at each gridpoint and stack them into a big $NM \\times NM$ matrix, cleverly arranged to pick out the correct $\\Delta y_k, \\Delta y_{k-1}, \\Delta y_{k+1}$ values. We then solve this matrix equation to get our correction terms for each of the velocities at every grid point, which we add to our initial values of velocities, and repeat. Once this correction vector's norm goes below a set tolerance, we terminate and output the final mesh, and get our initial velocities from the mesh. Usually this method converges in one iteration. \n",
    "\n",
    "We now implement this in code as follows -"
   ]
  },
  {
   "cell_type": "code",
   "execution_count": 328,
   "id": "05154f45-48a0-4084-9c72-6c4d66525776",
   "metadata": {},
   "outputs": [],
   "source": [
    "# Parameters and constants\n",
    "g = -9.8  # Gravitational acceleration\n",
    "Mx = 4   # Number of mesh points for x \n",
    "My = 4   # Number of mesh points for y \n",
    "Nx = 2    # Number of coupled differential equations for x\n",
    "Ny = 2    # Number of coupled differential equations for y\n",
    "T = 15.0  # Total time\n",
    "dt = T / (Mx - 1)  # Time step size\n",
    "tolerance = 1e-5   # norm of error vector should fall below this to converge\n",
    "max_iterations = 1  # large number of maximum iterations\n",
    "\n",
    "# Boundary conditions (given)\n",
    "x0, y0 = 0.0, 100.0   # Initial position at t=0\n",
    "xf, yf = 1000.0, 0.0  # Final position at t=15"
   ]
  },
  {
   "cell_type": "code",
   "execution_count": 329,
   "id": "278fac90-3609-4c3c-8926-d0a827f7f038",
   "metadata": {},
   "outputs": [],
   "source": [
    "# Define relevant functions for relaxation method\n",
    "\n",
    "# Initializing inital guess values to be all 1 for x and y mesh, dealing with x and y independently\n",
    "x_mesh = np.ones(shape=(Nx, Mx))\n",
    "y_mesh = np.ones(shape=(Ny, My))\n",
    "\n",
    "\n",
    "# Function to construct the finite difference matrix for x or y\n",
    "def construct_fd_matrix(M, N, dt):\n",
    "    matrix = np.zeros((M * N, M * N))  # initialize the big (NM x NM) matrix\n",
    "    \n",
    "    for i in range(1, M):\n",
    "        k = i * N        # scaling position of our N x 2N  block matrix in multiples of N to shift rightwards \n",
    "\n",
    "        # Local (N x 2N) block matrix\n",
    "        local_block = np.array([[-1, -dt/2 , 1 , -dt/2],\n",
    "                                [0,   -1 ,   0,    1]])\n",
    "        \n",
    "        # Insert this block into the global (NM x NM) matrix\n",
    "        matrix[k-1:k+N-1, k-N:k+N] = local_block       # proper row and column indexing ensured\n",
    "    \n",
    "    # Special handling for the first and last points (fixed positions)\n",
    "    matrix[0, 0] = 1.0  # Velocity update at first point\n",
    "    \n",
    "    matrix[-1, -2] = 1.0  # Velocity update at last point\n",
    "    \n",
    "    return matrix\n",
    "\n",
    "# Function to compute the error vector for x  (constant velocity, no g term)\n",
    "def compute_error_x(mesh, M, N, dt, x0, xf):\n",
    "    \n",
    "    error = np.zeros(M * N)\n",
    "    error[0] = mesh[0][0] - x0             # usage of partial error vector from boundary condition\n",
    "    error[-1] = mesh[0][-1] - xf\n",
    "     # fill in the rest of the error vector\n",
    "    for i in range(1, M):  # Iterate from 1,M\n",
    "        k = i * N - 1\n",
    "        error[k] = mesh[0][i] - mesh[0][i-1] - (dt/2)*(mesh[1][i] + mesh[1][i-1])\n",
    "        error[k+1] = mesh[1][i] - mesh[1][i-1]\n",
    "    return error\n",
    "\n",
    "# Function to compute the error vector for y  (net gravitational acceleration, modified error vector due to g term)\n",
    "def compute_error_y(mesh, M, N, dt, y0, yf):\n",
    "    \n",
    "    error = np.zeros(M * N)\n",
    "    # usage of partial error vector from boundary condition\n",
    "    error[0] = mesh[0][0] - y0\n",
    "    error[-1] = mesh[0][-1] - yf\n",
    "\n",
    "    # fill in the rest of the error vector\n",
    "    for i in range(1, M):\n",
    "        k = i*N  - 1\n",
    "        error[k]   = mesh[0][i] - mesh[0][i-1] - (dt/2)*(mesh[1][i] + mesh[1][i-1] )\n",
    "        error[k+1] = mesh[1][i] - mesh[1][i-1] - dt*g \n",
    "    return error\n",
    "\n",
    "# Relaxation method to solve for x and vx\n",
    "def relax_x(mesh, M, N, dt, x0, xf, tolerance):\n",
    "    fd_matrix = construct_fd_matrix(M, N, dt)\n",
    "    fd_matrix_inv = inv(fd_matrix)  # Pre-compute the inverse of the finite difference matrix\n",
    "\n",
    "    for iteration in range(max_iterations):\n",
    "        error = compute_error_x(mesh, M, N, dt, x0, xf)\n",
    "        delta = np.dot(fd_matrix_inv, -error)\n",
    "        \n",
    "        # Check if the delta norm is below the tolerance\n",
    "        if norm(delta) < tolerance:\n",
    "            break  # if yes then stop\n",
    "\n",
    "        # add the delta to the initial guess mesh values\n",
    "        for j in range(0,M):\n",
    "            mesh[:,j] += delta[N*j:N*j+2]\n",
    "    \n",
    "    return mesh     # return the updated mesh\n",
    "\n",
    "def relax_y(mesh, M, N, dt, y0, yf, tolerance):\n",
    "    \n",
    "    fd_matrix = construct_fd_matrix(M, N, dt)\n",
    "    fd_matrix_inv = inv(fd_matrix)  # Pre-compute the inverse of the finite difference matrix\n",
    "\n",
    "    for iteration in range(max_iterations):\n",
    "        error = compute_error_y(mesh, M, N, dt, y0, yf)\n",
    "\n",
    "        delta = np.dot(fd_matrix_inv, -error)\n",
    "        \n",
    "        # Check if the delta norm is below the tolerance\n",
    "        if norm(delta) < tolerance:\n",
    "            break  # if yes then stop\n",
    "\n",
    "          # add the delta to the initial guess mesh values\n",
    "        for j in range(0,M):\n",
    "            mesh[:,j] += delta[N*j:N*j+2]\n",
    "            \n",
    "   \n",
    "    return mesh # return the updated mesh\n"
   ]
  },
  {
   "cell_type": "markdown",
   "id": "85633adc-a36d-4441-bd55-7cfdbfa7b2f0",
   "metadata": {},
   "source": [
    "#### Driver code"
   ]
  },
  {
   "cell_type": "code",
   "execution_count": 330,
   "id": "e28fc239-951e-4762-bc2e-e46126d35cba",
   "metadata": {},
   "outputs": [
    {
     "name": "stdout",
     "output_type": "stream",
     "text": [
      "CPU times: user 2 µs, sys: 0 ns, total: 2 µs\n",
      "Wall time: 2.86 µs\n"
     ]
    }
   ],
   "source": [
    "%time\n",
    "\n",
    "# Perform relaxation separately for x and y\n",
    "x_mesh = relax_x(x_mesh, Mx, Nx, dt, x0, xf, tolerance)\n",
    "y_mesh = relax_y(y_mesh, My, Ny, dt, y0, yf, tolerance)\n",
    "\n",
    "vx_initial = np.round(x_mesh[1][0], 3)\n",
    "vy_initial = np.round(y_mesh[1][0], 3)\n",
    "\n",
    "vx_final = np.round(x_mesh[1][-1], 3)\n",
    "vy_final = np.round(y_mesh[1][-1], 3)\n",
    "\n"
   ]
  },
  {
   "cell_type": "code",
   "execution_count": 331,
   "id": "22dc7dd1-21bb-4cdd-bf7c-b6c7d1c813a9",
   "metadata": {},
   "outputs": [
    {
     "name": "stdout",
     "output_type": "stream",
     "text": [
      "The initial velocity (x,y) component values converged upon from relaxation method are:\n",
      " 66.667 66.833\n",
      "The final velocity (x,y) component values converged upon from relaxation method are:\n",
      " 66.667 -80.167\n"
     ]
    }
   ],
   "source": [
    "print('The initial velocity (x,y) component values converged upon from relaxation method are:\\n', vx_initial, vy_initial)\n",
    "print('The final velocity (x,y) component values converged upon from relaxation method are:\\n', vx_final, vy_final)"
   ]
  },
  {
   "cell_type": "markdown",
   "id": "e33b398a-5763-4676-a60d-756c17ef573b",
   "metadata": {},
   "source": [
    "There is no trajectory to be obtained from relaxation method, unless we feed in the above obtained initial velocity values to an IVP scheme (like RK4) and get the time evolution. Just to verify the given boundary conditions are satisfied (the target lands onto the solution), we print the obtained initial and final positions - "
   ]
  },
  {
   "cell_type": "code",
   "execution_count": 332,
   "id": "d6fe2cd1-d45e-4759-8edb-de9465eb22fe",
   "metadata": {},
   "outputs": [
    {
     "name": "stdout",
     "output_type": "stream",
     "text": [
      "Initial (x,y) positions: 0.0 100.0\n",
      "Final (x,y) positions: 1000.0 0.0\n"
     ]
    }
   ],
   "source": [
    "x_initial = x_mesh[0][0]\n",
    "y_initial = y_mesh[0][0]\n",
    "x_final = x_mesh[0][-1]\n",
    "y_final = y_mesh[0][-1]\n",
    "\n",
    "print(\"Initial (x,y) positions:\", x_initial, y_initial)\n",
    "print(\"Final (x,y) positions:\", x_final, y_final)"
   ]
  },
  {
   "cell_type": "markdown",
   "id": "a17cb3d4-12dc-46aa-997e-132136168d39",
   "metadata": {},
   "source": [
    "### Comparison between Shooting and Relaxation method \n",
    "\n"
   ]
  },
  {
   "cell_type": "markdown",
   "id": "2216850f-e4a6-4beb-8e07-bf7cf8cbec62",
   "metadata": {},
   "source": [
    "#### Efficiency\n",
    "\n",
    "To compare their efficiency, we have a look at the recorded time values for running both methods, and even though the actual values differ a little bit for every execution, their respective orders of magnitude is the same. While *shooting method* takes $ \\approx 10^{-3}$ seconds to run, the relaxation method takes $ \\approx 10^{-6}$ seconds (micro seconds). Although it would be more ideal to compare the run times for the exact same number of time steps for both methods, here shooting method only has 3x more steps than relaxation method, while the run time is roughly 1000 times larger. Hence, we can get a good ballpark estimate of the efficiency of both methods, by comparing their run times for roughly the same number of time steps (same order of magnitude)"
   ]
  },
  {
   "cell_type": "markdown",
   "id": "412361cc-5aa9-481e-a2a4-df4f2cc6b0cf",
   "metadata": {},
   "source": [
    "#### Accuracy\n",
    "\n",
    "We know the analytical values of the initial values of $x$ and $y$ velocities from the calculation above. We also found those values from both shooting and relaxation methods. The comparison values are as follows - \n",
    "\n",
    "1. Analytical method: Initial velocities (66.667, 66.833) & Final velocities (66.666, -80.166)\n",
    "2. Shooting method: Initial velocities (66.667, 66.908) & Final velocities (66.667, -80.242)\n",
    "3. Relaxation method: Initial velocities (66.667, 66.833) & Final velocities (66.667 -80.167)\n",
    "\n",
    "From these values itself we can see that the relaxation method is more accurate and in agreement with the analytical solution, compared to the shooting method values, for both initial and final velocities.\n",
    "\n",
    "Thus, the relaxation method is much better in terms of both accuracy and efficiency. "
   ]
  },
  {
   "cell_type": "markdown",
   "id": "65dfcc01-f742-440c-9b83-8bf2ec8061d0",
   "metadata": {},
   "source": [
    "We can also compare the accuracy of both methods by subtracting the trajectories evolved from their obtained initial velocities, from the analytical trajectory and plot the difference with time."
   ]
  },
  {
   "cell_type": "code",
   "execution_count": 333,
   "id": "bdb64811-06b5-4d89-8a12-afe13fc73b38",
   "metadata": {},
   "outputs": [],
   "source": [
    "# analytical run \n",
    "\n",
    "x0, y0 = 0, 100\n",
    "trajectory1 = rk4_trajectory(x0, y0, 66.667, 66.833, Tf, dt)\n",
    "x1, y1 = trajectory1[:, 0], trajectory1[:, 1]\n",
    "\n",
    "# shooting method run\n",
    "trajectory2 = rk4_trajectory(x0, y0, 66.667, 66.908, Tf, dt)\n",
    "x2, y2 = trajectory2[:, 0], trajectory2[:, 1]\n",
    "\n",
    "# relaxation method run\n",
    "\n",
    "trajectory3 = rk4_trajectory(x0, y0, 66.667, 66.833, Tf, dt)\n",
    "x3, y3 = trajectory3[:, 0], trajectory3[:, 1]"
   ]
  },
  {
   "cell_type": "code",
   "execution_count": null,
   "id": "a8aec7ed-664f-48b3-a30b-63187b2fd9e7",
   "metadata": {},
   "outputs": [],
   "source": []
  },
  {
   "cell_type": "code",
   "execution_count": null,
   "id": "75206d2b-c0e6-45a7-a3fa-b0820660f2ad",
   "metadata": {},
   "outputs": [],
   "source": []
  }
 ],
 "metadata": {
  "kernelspec": {
   "display_name": "Python 3 (ipykernel)",
   "language": "python",
   "name": "python3"
  },
  "language_info": {
   "codemirror_mode": {
    "name": "ipython",
    "version": 3
   },
   "file_extension": ".py",
   "mimetype": "text/x-python",
   "name": "python",
   "nbconvert_exporter": "python",
   "pygments_lexer": "ipython3",
   "version": "3.12.2"
  }
 },
 "nbformat": 4,
 "nbformat_minor": 5
}
